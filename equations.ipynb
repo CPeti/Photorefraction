{
 "cells": [
  {
   "cell_type": "code",
   "execution_count": 1,
   "metadata": {},
   "outputs": [],
   "source": [
    "from sympy import symbols, Eq, solve, cos, atan, sin, pi, sign, tan, nsolve, sqrt\n",
    "import math\n",
    "import numpy as np\n",
    "import calculator"
   ]
  },
  {
   "cell_type": "code",
   "execution_count": 2,
   "metadata": {},
   "outputs": [],
   "source": [
    "Dsph, Dcyl, alpha, DCR_h, DCR_v, gamma_h, gamma_v, d, e= symbols('Dsph Dcyl alpha DCR_h DCR_v gamma_h gamma_v d e')"
   ]
  },
  {
   "cell_type": "code",
   "execution_count": 3,
   "metadata": {},
   "outputs": [],
   "source": [
    "# Define the equations\n",
    "eq1 = Eq((d**2/e**2 * ((Dsph - 1/d)**2 + Dcyl*(Dsph + Dcyl/2 - 1/d) * (1 + cos(2*alpha))))**(-0.5), DCR_h * sign(Dcyl*cos(2*alpha) + 2*Dsph + Dcyl - 2/d))\n",
    "eq2 = Eq(atan((Dcyl*sin(2*alpha)) / (Dcyl*cos(2*alpha) + 2*Dsph + Dcyl - 2/d)), gamma_h)\n",
    "eq3 = Eq((d**2/e**2 * ((Dsph - 1/d)**2 + Dcyl*(Dsph + Dcyl/2 - 1/d) * (1 + cos(2*(alpha+pi/2)))))**(-0.5), DCR_v * sign(Dcyl*cos(2*(alpha+pi/2)) + 2*Dsph + Dcyl - 2/d))\n",
    "eq4 = Eq(atan((Dcyl*sin(2*(alpha+pi/2))) / (Dcyl*cos(2*(alpha+pi/2)) + 2*Dsph + Dcyl - 2/d)), gamma_v)\n",
    "eqs = [eq1, eq2, eq3, eq4]"
   ]
  },
  {
   "cell_type": "code",
   "execution_count": 6,
   "metadata": {},
   "outputs": [
    {
     "name": "stdout",
     "output_type": "stream",
     "text": [
      "{DCR_h: 0.00236498909907829, DCR_v: 0.00186266410111299, gamma_h: 0.0601567592818986, gamma_v: -0.0473685711126283}\n",
      "3.4467284160372307\n",
      "-2.7140192063189117\n"
     ]
    },
    {
     "data": {
      "text/plain": [
       "[[168.0, -0.500000, 1.500000], [78.0, 0.500000, 1.00000000000000]]"
      ]
     },
     "execution_count": 6,
     "metadata": {},
     "output_type": "execute_result"
    }
   ],
   "source": [
    "# Solve the equations\n",
    "constants = {d:-1.5, e:0.006, Dcyl:-0.5, Dsph:1.5, alpha:math.radians(168)}\n",
    "sol = solve([eq.subs(constants) for eq in eqs], (DCR_h, gamma_h, DCR_v, gamma_v))\n",
    "print(sol)\n",
    "print(math.degrees(sol[gamma_h]))\n",
    "print(math.degrees(sol[gamma_v]))\n",
    "calculator.calculate_diopters(sol[DCR_h], sol[DCR_v], sol[gamma_h], sol[gamma_v], e_value=constants[e])"
   ]
  },
  {
   "cell_type": "code",
   "execution_count": 5,
   "metadata": {},
   "outputs": [],
   "source": [
    "sol[e] = 0.012\n",
    "sol[d] = -1.5\n",
    "# print the equations"
   ]
  },
  {
   "cell_type": "code",
   "execution_count": 6,
   "metadata": {},
   "outputs": [],
   "source": [
    "# Define the equations\n",
    "eq1 = Eq((d**2/e**2 * ((Dsph - 1/d)**2 + Dcyl*(Dsph + Dcyl/2 - 1/d) * (1 + cos(2*alpha))))**(-0.5), DCR_h )#* sign(Dcyl*cos(2*alpha) + 2*Dsph + Dcyl - 2/d))\n",
    "eq2 = Eq(atan((Dcyl*sin(2*alpha)) / (Dcyl*cos(2*alpha) + 2*Dsph + Dcyl - 2/d)), gamma_h)\n",
    "eq3 = Eq((d**2/e**2 * ((Dsph - 1/d)**2 + Dcyl*(Dsph + Dcyl/2 - 1/d) * (1 + cos(2*(alpha+pi/2)))))**(-0.5), DCR_v )#* sign(Dcyl*cos(2*(alpha+pi/2)) + 2*Dsph + Dcyl - 2/d))\n",
    "eq4 = Eq(atan((Dcyl*sin(2*(alpha+pi/2))) / (Dcyl*cos(2*(alpha+pi/2)) + 2*Dsph + Dcyl - 2/d)), gamma_v)"
   ]
  },
  {
   "cell_type": "code",
   "execution_count": 7,
   "metadata": {},
   "outputs": [],
   "source": [
    "#exps1 = solve((eq1), (Dsph))\n",
    "#exps2 = solve((eq2), (Dsph))\n",
    "#exps3 = solve((eq3), (Dsph))\n",
    "#exps4 = solve((eq4), (Dsph))\n"
   ]
  },
  {
   "cell_type": "code",
   "execution_count": 8,
   "metadata": {},
   "outputs": [],
   "source": [
    "#eq5 = Eq(Dcyl*sin(2*alpha)/(2*tan(gamma_h)) - Dcyl*cos(2*alpha)/2 - Dcyl/2 + 1/d, -Dcyl*sin(2*alpha)/(2*tan(gamma_v)) + Dcyl*cos(2*alpha)/2 - Dcyl/2 + 1/d)\n",
    "#eq6 = Eq(0.5*(-Dcyl*d*cos(2.0*alpha) - Dcyl*d - sqrt((0.5*DCR_h**2*Dcyl**2*d**2*(cos(4.0*alpha) - 1.0) + 4.0*e**2)/DCR_h**2) + 2.0)/d, 0.5*(Dcyl*d*cos(2.0*alpha) - Dcyl*d - sqrt((0.5*DCR_v**2*Dcyl**2*d**2*(cos(4.0*alpha) - 1.0) + 4.0*e**2)/DCR_v**2) + 2.0)/d)"
   ]
  },
  {
   "cell_type": "code",
   "execution_count": 9,
   "metadata": {},
   "outputs": [],
   "source": [
    "#angles1 = solve((eq5, Eq(exps1[0], exps3[0])), (alpha))\n",
    "#angles1"
   ]
  },
  {
   "cell_type": "code",
   "execution_count": 10,
   "metadata": {},
   "outputs": [],
   "source": [
    "#angles2 = solve((eq5, Eq(exps1[1], exps3[1])), (alpha))\n",
    "#angles2"
   ]
  },
  {
   "cell_type": "code",
   "execution_count": 11,
   "metadata": {},
   "outputs": [],
   "source": [
    "a =  -atan(0.5*(-1 *2.0*sqrt(tan(gamma_h)**2*tan(gamma_v)**2 + 0.25*tan(gamma_h)**2 + 0.5*tan(gamma_h)*tan(gamma_v) + 0.25*tan(gamma_v)**2) + tan(gamma_h) + tan(gamma_v))/(tan(gamma_h)*tan(gamma_v)))\n",
    "a2 = -atan(0.5*(1 *2.0*sqrt(tan(gamma_h)**2*tan(gamma_v)**2 + 0.25*tan(gamma_h)**2 + 0.5*tan(gamma_h)*tan(gamma_v) + 0.25*tan(gamma_v)**2) + tan(gamma_h) + tan(gamma_v))/(tan(gamma_h)*tan(gamma_v)))"
   ]
  },
  {
   "cell_type": "code",
   "execution_count": 12,
   "metadata": {},
   "outputs": [
    {
     "data": {
      "text/latex": [
       "$\\displaystyle - \\operatorname{atan}{\\left(\\frac{- 1.0 \\sqrt{\\tan^{2}{\\left(\\gamma_{h} \\right)} \\tan^{2}{\\left(\\gamma_{v} \\right)} + 0.25 \\tan^{2}{\\left(\\gamma_{h} \\right)} + 0.5 \\tan{\\left(\\gamma_{h} \\right)} \\tan{\\left(\\gamma_{v} \\right)} + 0.25 \\tan^{2}{\\left(\\gamma_{v} \\right)}} + 0.5 \\tan{\\left(\\gamma_{h} \\right)} + 0.5 \\tan{\\left(\\gamma_{v} \\right)}}{\\tan{\\left(\\gamma_{h} \\right)} \\tan{\\left(\\gamma_{v} \\right)}} \\right)}$"
      ],
      "text/plain": [
       "-atan((-1.0*sqrt(tan(gamma_h)**2*tan(gamma_v)**2 + 0.25*tan(gamma_h)**2 + 0.5*tan(gamma_h)*tan(gamma_v) + 0.25*tan(gamma_v)**2) + 0.5*tan(gamma_h) + 0.5*tan(gamma_v))/(tan(gamma_h)*tan(gamma_v)))"
      ]
     },
     "execution_count": 12,
     "metadata": {},
     "output_type": "execute_result"
    }
   ],
   "source": [
    "a"
   ]
  },
  {
   "cell_type": "code",
   "execution_count": 13,
   "metadata": {},
   "outputs": [],
   "source": [
    "sol[alpha] = a2"
   ]
  },
  {
   "cell_type": "code",
   "execution_count": 14,
   "metadata": {},
   "outputs": [
    {
     "data": {
      "text/plain": [
       "{DCR_h: 0.00337972962163027,\n",
       " DCR_v: 0.00338000000000000,\n",
       " gamma_h: 1.39615170945587e-10,\n",
       " gamma_v: -1.39626340159263e-10,\n",
       " e: 0.012,\n",
       " d: -1.5,\n",
       " alpha: -atan((1.0*sqrt(tan(gamma_h)**2*tan(gamma_v)**2 + 0.25*tan(gamma_h)**2 + 0.5*tan(gamma_h)*tan(gamma_v) + 0.25*tan(gamma_v)**2) + 0.5*tan(gamma_h) + 0.5*tan(gamma_v))/(tan(gamma_h)*tan(gamma_v)))}"
      ]
     },
     "execution_count": 14,
     "metadata": {},
     "output_type": "execute_result"
    }
   ],
   "source": [
    "sol"
   ]
  },
  {
   "cell_type": "code",
   "execution_count": 15,
   "metadata": {},
   "outputs": [],
   "source": [
    "#dcyl_sol = solve(eq6, Dcyl)\n",
    "#dcyl_sol"
   ]
  },
  {
   "cell_type": "code",
   "execution_count": 16,
   "metadata": {},
   "outputs": [],
   "source": [
    "dcyl_sol = [-2.0*sqrt(0.5*DCR_h**2*e**2*cos(2.0*alpha)/(2.0*DCR_h**2*DCR_v**2*d**2*cos(2.0*alpha)**3 - DCR_h**2*DCR_v**2*d**2*cos(2.0*alpha)*cos(4.0*alpha) + DCR_h**2*DCR_v**2*d**2*cos(2.0*alpha)) + 0.5*DCR_v**2*e**2*cos(2.0*alpha)/(2.0*DCR_h**2*DCR_v**2*d**2*cos(2.0*alpha)**3 - DCR_h**2*DCR_v**2*d**2*cos(2.0*alpha)*cos(4.0*alpha) + DCR_h**2*DCR_v**2*d**2*cos(2.0*alpha)) - e**2*(0.125*DCR_h**4*cos(4.0*alpha) - 0.125*DCR_h**4 + DCR_h**2*DCR_v**2*cos(2.0*alpha)**2 - 0.25*DCR_h**2*DCR_v**2*cos(4.0*alpha) + 0.25*DCR_h**2*DCR_v**2 + 0.125*DCR_v**4*cos(4.0*alpha) - 0.125*DCR_v**4)**0.5/(2.0*DCR_h**2*DCR_v**2*d**2*cos(2.0*alpha)**3 - DCR_h**2*DCR_v**2*d**2*cos(2.0*alpha)*cos(4.0*alpha) + DCR_h**2*DCR_v**2*d**2*cos(2.0*alpha))),\n",
    "             2.0*sqrt(0.5*DCR_h**2*e**2*cos(2.0*alpha)/(2.0*DCR_h**2*DCR_v**2*d**2*cos(2.0*alpha)**3 - DCR_h**2*DCR_v**2*d**2*cos(2.0*alpha)*cos(4.0*alpha) + DCR_h**2*DCR_v**2*d**2*cos(2.0*alpha)) + 0.5*DCR_v**2*e**2*cos(2.0*alpha)/(2.0*DCR_h**2*DCR_v**2*d**2*cos(2.0*alpha)**3 - DCR_h**2*DCR_v**2*d**2*cos(2.0*alpha)*cos(4.0*alpha) + DCR_h**2*DCR_v**2*d**2*cos(2.0*alpha)) - e**2*(0.125*DCR_h**4*cos(4.0*alpha) - 0.125*DCR_h**4 + DCR_h**2*DCR_v**2*cos(2.0*alpha)**2 - 0.25*DCR_h**2*DCR_v**2*cos(4.0*alpha) + 0.25*DCR_h**2*DCR_v**2 + 0.125*DCR_v**4*cos(4.0*alpha) - 0.125*DCR_v**4)**0.5/(2.0*DCR_h**2*DCR_v**2*d**2*cos(2.0*alpha)**3 - DCR_h**2*DCR_v**2*d**2*cos(2.0*alpha)*cos(4.0*alpha) + DCR_h**2*DCR_v**2*d**2*cos(2.0*alpha))),\n",
    "            -2.0*sqrt(0.5*DCR_h**2*e**2*cos(2.0*alpha)/(2.0*DCR_h**2*DCR_v**2*d**2*cos(2.0*alpha)**3 - DCR_h**2*DCR_v**2*d**2*cos(2.0*alpha)*cos(4.0*alpha) + DCR_h**2*DCR_v**2*d**2*cos(2.0*alpha)) + 0.5*DCR_v**2*e**2*cos(2.0*alpha)/(2.0*DCR_h**2*DCR_v**2*d**2*cos(2.0*alpha)**3 - DCR_h**2*DCR_v**2*d**2*cos(2.0*alpha)*cos(4.0*alpha) + DCR_h**2*DCR_v**2*d**2*cos(2.0*alpha)) + e**2*(0.125*DCR_h**4*cos(4.0*alpha) - 0.125*DCR_h**4 + DCR_h**2*DCR_v**2*cos(2.0*alpha)**2 - 0.25*DCR_h**2*DCR_v**2*cos(4.0*alpha) + 0.25*DCR_h**2*DCR_v**2 + 0.125*DCR_v**4*cos(4.0*alpha) - 0.125*DCR_v**4)**0.5/(2.0*DCR_h**2*DCR_v**2*d**2*cos(2.0*alpha)**3 - DCR_h**2*DCR_v**2*d**2*cos(2.0*alpha)*cos(4.0*alpha) + DCR_h**2*DCR_v**2*d**2*cos(2.0*alpha))),\n",
    "             2.0*sqrt(0.5*DCR_h**2*e**2*cos(2.0*alpha)/(2.0*DCR_h**2*DCR_v**2*d**2*cos(2.0*alpha)**3 - DCR_h**2*DCR_v**2*d**2*cos(2.0*alpha)*cos(4.0*alpha) + DCR_h**2*DCR_v**2*d**2*cos(2.0*alpha)) + 0.5*DCR_v**2*e**2*cos(2.0*alpha)/(2.0*DCR_h**2*DCR_v**2*d**2*cos(2.0*alpha)**3 - DCR_h**2*DCR_v**2*d**2*cos(2.0*alpha)*cos(4.0*alpha) + DCR_h**2*DCR_v**2*d**2*cos(2.0*alpha)) + e**2*(0.125*DCR_h**4*cos(4.0*alpha) - 0.125*DCR_h**4 + DCR_h**2*DCR_v**2*cos(2.0*alpha)**2 - 0.25*DCR_h**2*DCR_v**2*cos(4.0*alpha) + 0.25*DCR_h**2*DCR_v**2 + 0.125*DCR_v**4*cos(4.0*alpha) - 0.125*DCR_v**4)**0.5/(2.0*DCR_h**2*DCR_v**2*d**2*cos(2.0*alpha)**3 - DCR_h**2*DCR_v**2*d**2*cos(2.0*alpha)*cos(4.0*alpha) + DCR_h**2*DCR_v**2*d**2*cos(2.0*alpha)))]"
   ]
  },
  {
   "cell_type": "code",
   "execution_count": 17,
   "metadata": {},
   "outputs": [
    {
     "data": {
      "text/plain": [
       "[-2.0*sqrt(0.5*DCR_h**2*e**2*cos(2.0*alpha)/(2.0*DCR_h**2*DCR_v**2*d**2*cos(2.0*alpha)**3 - DCR_h**2*DCR_v**2*d**2*cos(2.0*alpha)*cos(4.0*alpha) + DCR_h**2*DCR_v**2*d**2*cos(2.0*alpha)) + 0.5*DCR_v**2*e**2*cos(2.0*alpha)/(2.0*DCR_h**2*DCR_v**2*d**2*cos(2.0*alpha)**3 - DCR_h**2*DCR_v**2*d**2*cos(2.0*alpha)*cos(4.0*alpha) + DCR_h**2*DCR_v**2*d**2*cos(2.0*alpha)) - e**2*(0.125*DCR_h**4*cos(4.0*alpha) - 0.125*DCR_h**4 + DCR_h**2*DCR_v**2*cos(2.0*alpha)**2 - 0.25*DCR_h**2*DCR_v**2*cos(4.0*alpha) + 0.25*DCR_h**2*DCR_v**2 + 0.125*DCR_v**4*cos(4.0*alpha) - 0.125*DCR_v**4)**0.5/(2.0*DCR_h**2*DCR_v**2*d**2*cos(2.0*alpha)**3 - DCR_h**2*DCR_v**2*d**2*cos(2.0*alpha)*cos(4.0*alpha) + DCR_h**2*DCR_v**2*d**2*cos(2.0*alpha))),\n",
       " 2.0*sqrt(0.5*DCR_h**2*e**2*cos(2.0*alpha)/(2.0*DCR_h**2*DCR_v**2*d**2*cos(2.0*alpha)**3 - DCR_h**2*DCR_v**2*d**2*cos(2.0*alpha)*cos(4.0*alpha) + DCR_h**2*DCR_v**2*d**2*cos(2.0*alpha)) + 0.5*DCR_v**2*e**2*cos(2.0*alpha)/(2.0*DCR_h**2*DCR_v**2*d**2*cos(2.0*alpha)**3 - DCR_h**2*DCR_v**2*d**2*cos(2.0*alpha)*cos(4.0*alpha) + DCR_h**2*DCR_v**2*d**2*cos(2.0*alpha)) - e**2*(0.125*DCR_h**4*cos(4.0*alpha) - 0.125*DCR_h**4 + DCR_h**2*DCR_v**2*cos(2.0*alpha)**2 - 0.25*DCR_h**2*DCR_v**2*cos(4.0*alpha) + 0.25*DCR_h**2*DCR_v**2 + 0.125*DCR_v**4*cos(4.0*alpha) - 0.125*DCR_v**4)**0.5/(2.0*DCR_h**2*DCR_v**2*d**2*cos(2.0*alpha)**3 - DCR_h**2*DCR_v**2*d**2*cos(2.0*alpha)*cos(4.0*alpha) + DCR_h**2*DCR_v**2*d**2*cos(2.0*alpha))),\n",
       " -2.0*sqrt(0.5*DCR_h**2*e**2*cos(2.0*alpha)/(2.0*DCR_h**2*DCR_v**2*d**2*cos(2.0*alpha)**3 - DCR_h**2*DCR_v**2*d**2*cos(2.0*alpha)*cos(4.0*alpha) + DCR_h**2*DCR_v**2*d**2*cos(2.0*alpha)) + 0.5*DCR_v**2*e**2*cos(2.0*alpha)/(2.0*DCR_h**2*DCR_v**2*d**2*cos(2.0*alpha)**3 - DCR_h**2*DCR_v**2*d**2*cos(2.0*alpha)*cos(4.0*alpha) + DCR_h**2*DCR_v**2*d**2*cos(2.0*alpha)) + e**2*(0.125*DCR_h**4*cos(4.0*alpha) - 0.125*DCR_h**4 + DCR_h**2*DCR_v**2*cos(2.0*alpha)**2 - 0.25*DCR_h**2*DCR_v**2*cos(4.0*alpha) + 0.25*DCR_h**2*DCR_v**2 + 0.125*DCR_v**4*cos(4.0*alpha) - 0.125*DCR_v**4)**0.5/(2.0*DCR_h**2*DCR_v**2*d**2*cos(2.0*alpha)**3 - DCR_h**2*DCR_v**2*d**2*cos(2.0*alpha)*cos(4.0*alpha) + DCR_h**2*DCR_v**2*d**2*cos(2.0*alpha))),\n",
       " 2.0*sqrt(0.5*DCR_h**2*e**2*cos(2.0*alpha)/(2.0*DCR_h**2*DCR_v**2*d**2*cos(2.0*alpha)**3 - DCR_h**2*DCR_v**2*d**2*cos(2.0*alpha)*cos(4.0*alpha) + DCR_h**2*DCR_v**2*d**2*cos(2.0*alpha)) + 0.5*DCR_v**2*e**2*cos(2.0*alpha)/(2.0*DCR_h**2*DCR_v**2*d**2*cos(2.0*alpha)**3 - DCR_h**2*DCR_v**2*d**2*cos(2.0*alpha)*cos(4.0*alpha) + DCR_h**2*DCR_v**2*d**2*cos(2.0*alpha)) + e**2*(0.125*DCR_h**4*cos(4.0*alpha) - 0.125*DCR_h**4 + DCR_h**2*DCR_v**2*cos(2.0*alpha)**2 - 0.25*DCR_h**2*DCR_v**2*cos(4.0*alpha) + 0.25*DCR_h**2*DCR_v**2 + 0.125*DCR_v**4*cos(4.0*alpha) - 0.125*DCR_v**4)**0.5/(2.0*DCR_h**2*DCR_v**2*d**2*cos(2.0*alpha)**3 - DCR_h**2*DCR_v**2*d**2*cos(2.0*alpha)*cos(4.0*alpha) + DCR_h**2*DCR_v**2*d**2*cos(2.0*alpha)))]"
      ]
     },
     "execution_count": 17,
     "metadata": {},
     "output_type": "execute_result"
    }
   ],
   "source": [
    "dcyl_sol"
   ]
  },
  {
   "cell_type": "code",
   "execution_count": 18,
   "metadata": {},
   "outputs": [
    {
     "name": "stdout",
     "output_type": "stream",
     "text": [
      "-0.000189350411591172\n",
      "0.000189350411591172\n",
      "-4.73391715976326\n",
      "4.73391715976326\n"
     ]
    }
   ],
   "source": [
    "Dcyls = []\n",
    "for s in dcyl_sol:\n",
    "    # calculate value of s\n",
    "    s = s.subs(sol)\n",
    "    print(s)\n",
    "    Dcyls.append(s)\n"
   ]
  },
  {
   "cell_type": "code",
   "execution_count": 19,
   "metadata": {},
   "outputs": [],
   "source": [
    "Dsph_sol = [0.5*(-Dcyl*d*cos(2.0*alpha) - Dcyl*d - sqrt((0.5*DCR_h**2*Dcyl**2*d**2*(cos(4.0*alpha) - 1.0) + 4.0*e**2)/DCR_h**2) + 2.0)/d,\n",
    "            0.5*(-Dcyl*d*cos(2.0*alpha) - Dcyl*d + sqrt((0.5*DCR_h**2*Dcyl**2*d**2*(cos(4.0*alpha) - 1.0) + 4.0*e**2)/DCR_h**2) + 2.0)/d]"
   ]
  },
  {
   "cell_type": "code",
   "execution_count": 20,
   "metadata": {},
   "outputs": [
    {
     "name": "stdout",
     "output_type": "stream",
     "text": [
      "alpha1: -90\n",
      "alpha2: 0\n"
     ]
    }
   ],
   "source": [
    "print(f\"alpha1: {round(math.degrees(a.subs(sol).evalf()))}\")\n",
    "print(f\"alpha2: {round(math.degrees(a2.subs(sol).evalf()))}\")\n",
    "\n",
    "alphas = [round(math.degrees(a.subs(sol).evalf())), round(math.degrees(a2.subs(sol).evalf()))]\n"
   ]
  },
  {
   "cell_type": "code",
   "execution_count": 21,
   "metadata": {},
   "outputs": [
    {
     "name": "stdout",
     "output_type": "stream",
     "text": [
      "[-90, 0]\n",
      "[-0.000189350411591172, 0.000189350411591172, -4.73391715976326, 4.73391715976326]\n"
     ]
    }
   ],
   "source": [
    "triplets = []\n",
    "print(alphas)\n",
    "print(Dcyls)\n",
    "for a in alphas:\n",
    "    sol[alpha] = math.radians(a)\n",
    "    for value in Dcyls:\n",
    "        s = Dsph_sol[0].subs(sol).subs({Dcyl:value})\n",
    "        triplets.append((s, value, a))\n",
    "    for value in Dcyls:\n",
    "        s = Dsph_sol[1].subs(sol).subs({Dcyl:value})\n",
    "        triplets.append((s, value, a))\n",
    "    "
   ]
  },
  {
   "cell_type": "code",
   "execution_count": 22,
   "metadata": {},
   "outputs": [
    {
     "data": {
      "text/plain": [
       "[(1.70038658777120, -0.000189350411591172, -90),\n",
       " (1.70038658777120, 0.000189350411591172, -90),\n",
       " (1.70038658777120, -4.73391715976326, -90),\n",
       " (1.70038658777120, 4.73391715976326, -90),\n",
       " (-3.03371992110454, -0.000189350411591172, -90),\n",
       " (-3.03371992110454, 0.000189350411591172, -90),\n",
       " (-3.03371992110454, -4.73391715976326, -90),\n",
       " (-3.03371992110454, 4.73391715976326, -90),\n",
       " (1.70057593818279, -0.000189350411591172, 0),\n",
       " (1.70019723735961, 0.000189350411591172, 0),\n",
       " (6.43430374753446, -4.73391715976326, 0),\n",
       " (-3.03353057199206, 4.73391715976326, 0),\n",
       " (-3.03353057069295, -0.000189350411591172, 0),\n",
       " (-3.03390927151613, 0.000189350411591172, 0),\n",
       " (1.70019723865872, -4.73391715976326, 0),\n",
       " (-7.76763708086780, 4.73391715976326, 0)]"
      ]
     },
     "execution_count": 22,
     "metadata": {},
     "output_type": "execute_result"
    }
   ],
   "source": [
    "triplets"
   ]
  },
  {
   "cell_type": "code",
   "execution_count": 23,
   "metadata": {},
   "outputs": [
    {
     "data": {
      "text/plain": [
       "[(1.70039, -0.00019, -90),\n",
       " (1.70039, 0.00019, -90),\n",
       " (1.70039, -4.73392, -90),\n",
       " (1.70039, 4.73392, -90),\n",
       " (-3.03372, -0.00019, -90),\n",
       " (-3.03372, 0.00019, -90),\n",
       " (-3.03372, -4.73392, -90),\n",
       " (-3.03372, 4.73392, -90),\n",
       " (1.70058, -0.00019, 0),\n",
       " (1.7002, 0.00019, 0),\n",
       " (6.4343, -4.73392, 0),\n",
       " (-3.03353, 4.73392, 0),\n",
       " (-3.03353, -0.00019, 0),\n",
       " (-3.03391, 0.00019, 0),\n",
       " (1.7002, -4.73392, 0),\n",
       " (-7.76764, 4.73392, 0)]"
      ]
     },
     "execution_count": 23,
     "metadata": {},
     "output_type": "execute_result"
    }
   ],
   "source": [
    "# cast everything to float and round to 5 decimal places\n",
    "triplets = [(round(float(t[0].evalf()), 5), round(float(t[1].evalf()), 5), t[2]) for t in triplets]\n",
    "triplets"
   ]
  },
  {
   "cell_type": "code",
   "execution_count": 24,
   "metadata": {},
   "outputs": [],
   "source": [
    "def check_solution(alpha, Dcyl, Dsph, measurements, dc=-1.5, e=0.012, tolerance=0.0001):\n",
    "    dcr_h, gamma_h, dcr_v, gamma_v = measurements\n",
    "    exp1 = (dc**2/e**2 * ((Dsph - 1/dc)**2 + Dcyl*(Dsph + Dcyl/2 - 1/dc) * (1 + math.cos(2*alpha))))**(-0.5) - dcr_h * np.sign(Dcyl*math.cos(2*alpha) + 2*Dsph + Dcyl - 2/dc)\n",
    "    exp2 = math.atan((Dcyl*math.sin(2*alpha)) / (Dcyl*math.cos(2*alpha) + 2*Dsph + Dcyl - 2/dc)) - gamma_h\n",
    "    exp3 = (dc**2/e**2 * ((Dsph - 1/dc)**2 + Dcyl*(Dsph + Dcyl/2 - 1/dc) * (1 + math.cos(2*(alpha+pi/2)))))**(-0.5) - dcr_v * np.sign(Dcyl*math.cos(2*(alpha+pi/2)) + 2*Dsph + Dcyl - 2/dc)\n",
    "    exp4 = math.atan((Dcyl*math.sin(2*(alpha+pi/2))) / (Dcyl*math.cos(2*(alpha+pi/2)) + 2*Dsph + Dcyl - 2/dc))- gamma_v\n",
    "    \n",
    "    if abs(exp1) < tolerance and abs(exp2) < tolerance and abs(exp3) < tolerance and abs(exp4) < tolerance:\n",
    "        alpha_deg = round(math.degrees(alpha))\n",
    "        if alpha_deg < 0:\n",
    "            alpha_deg = 180 + alpha_deg\n",
    "        return (alpha_deg, round(Dcyl, 4), round(Dsph, 4))\n",
    "\n",
    "                \n",
    "            \n",
    "    "
   ]
  },
  {
   "cell_type": "code",
   "execution_count": 25,
   "metadata": {},
   "outputs": [
    {
     "data": {
      "text/plain": [
       "{DCR_h: 0.00337972962163027,\n",
       " DCR_v: 0.00338000000000000,\n",
       " gamma_h: 1.39615170945587e-10,\n",
       " gamma_v: -1.39626340159263e-10,\n",
       " e: 0.012,\n",
       " d: -1.5,\n",
       " alpha: 0.0}"
      ]
     },
     "execution_count": 25,
     "metadata": {},
     "output_type": "execute_result"
    }
   ],
   "source": [
    "sol"
   ]
  },
  {
   "cell_type": "code",
   "execution_count": 26,
   "metadata": {},
   "outputs": [
    {
     "name": "stdout",
     "output_type": "stream",
     "text": [
      "{(0, -0.0002, 1.7006), (90, 0.0002, 1.7004), (90, -0.0002, 1.7004), (0, 0.0002, 1.7002)}\n"
     ]
    }
   ],
   "source": [
    "solutions = []\n",
    "measurements = (sol[DCR_h], sol[gamma_h], sol[DCR_v], sol[gamma_v])\n",
    "for triplet in triplets:\n",
    "    Dsph = triplet[0]\n",
    "    Dcyl = triplet[1]\n",
    "    alpha = math.radians(triplet[2])\n",
    "    # check if equation is satisfied\n",
    "    solutions.append(check_solution(alpha, Dcyl, Dsph, measurements, tolerance=0.00001))\n",
    "\n",
    "solutions = [x for x in solutions if x is not None]\n",
    "print(set(solutions))"
   ]
  }
 ],
 "metadata": {
  "kernelspec": {
   "display_name": "torch",
   "language": "python",
   "name": "python3"
  },
  "language_info": {
   "codemirror_mode": {
    "name": "ipython",
    "version": 3
   },
   "file_extension": ".py",
   "mimetype": "text/x-python",
   "name": "python",
   "nbconvert_exporter": "python",
   "pygments_lexer": "ipython3",
   "version": "3.11.7"
  }
 },
 "nbformat": 4,
 "nbformat_minor": 2
}
