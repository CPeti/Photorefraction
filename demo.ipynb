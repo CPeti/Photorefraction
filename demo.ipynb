{
 "cells": [
  {
   "cell_type": "code",
   "execution_count": 1,
   "metadata": {},
   "outputs": [],
   "source": [
    "import utils.synthetic_data as synth\n",
    "import matplotlib.pyplot as plt"
   ]
  },
  {
   "cell_type": "code",
   "execution_count": 2,
   "metadata": {},
   "outputs": [],
   "source": [
    "l_eye = 1/60   # length of eye (m) - 1/60 is average\n",
    "im_w = 50      # image width (pixels)\n",
    "\n",
    "D = 1.50       # subject distance from camera (m)\n",
    "r_p = 0.004    # radius of pupil (m)\n",
    "e = 0.007      # eccentricity of light source (m)\n",
    "R = -1.5       # spherical lens diopter (1/m)\n",
    "D_cyl = 0.0    # cylinder lens diopter (1/m)\n",
    "axis = 0       # axis of cylinder lens in degrees\n",
    "\n",
    "# TODO: find color combinations that look realistic\n",
    "fundus_color = (0.8, 0.3, 0.3)\n",
    "crescent_color = (1.0, 1.0, 0.6)"
   ]
  },
  {
   "cell_type": "code",
   "execution_count": null,
   "metadata": {},
   "outputs": [],
   "source": [
    "im = synth.generate_crescent(R, D_cyl, axis, e, D, r_p,\n",
    "                            orientation='V',\n",
    "                            fundus_color=fundus_color,\n",
    "                            crescent_color=crescent_color,\n",
    "                            shade=0.8,  # if this number is low, red eye will appear even without crescent - False to disable\n",
    "                            blur=True,\n",
    "                            glow=False, \n",
    "                            size=im_w)\n",
    "plt.imshow(im)"
   ]
  }
 ],
 "metadata": {
  "kernelspec": {
   "display_name": "base",
   "language": "python",
   "name": "python3"
  },
  "language_info": {
   "codemirror_mode": {
    "name": "ipython",
    "version": 3
   },
   "file_extension": ".py",
   "mimetype": "text/x-python",
   "name": "python",
   "nbconvert_exporter": "python",
   "pygments_lexer": "ipython3",
   "version": "3.10.15"
  }
 },
 "nbformat": 4,
 "nbformat_minor": 2
}
